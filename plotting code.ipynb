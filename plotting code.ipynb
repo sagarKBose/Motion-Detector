{
 "cells": [
  {
   "cell_type": "code",
   "execution_count": 10,
   "metadata": {},
   "outputs": [
    {
     "name": "stdout",
     "output_type": "stream",
     "text": [
      "Requirement already satisfied: ipynb in c:\\users\\kiit\\anaconda3\\lib\\site-packages (0.5.1)\n"
     ]
    }
   ],
   "source": [
    "!pip install ipynb"
   ]
  },
  {
   "cell_type": "code",
   "execution_count": 19,
   "metadata": {},
   "outputs": [
    {
     "name": "stdout",
     "output_type": "stream",
     "text": [
      "[datetime.datetime(2020, 4, 18, 13, 2, 22, 309952), datetime.datetime(2020, 4, 18, 13, 2, 23, 67223), datetime.datetime(2020, 4, 18, 13, 2, 23, 546351), datetime.datetime(2020, 4, 18, 13, 2, 23, 725919), datetime.datetime(2020, 4, 18, 13, 2, 23, 786523), datetime.datetime(2020, 4, 18, 13, 2, 24, 99362), datetime.datetime(2020, 4, 18, 13, 2, 24, 211531), datetime.datetime(2020, 4, 18, 13, 2, 24, 276613), datetime.datetime(2020, 4, 18, 13, 2, 24, 414624), datetime.datetime(2020, 4, 18, 13, 2, 24, 457843), datetime.datetime(2020, 4, 18, 13, 2, 24, 586535), datetime.datetime(2020, 4, 18, 13, 2, 24, 705977), datetime.datetime(2020, 4, 18, 13, 2, 24, 823695), datetime.datetime(2020, 4, 18, 13, 2, 24, 894675), datetime.datetime(2020, 4, 18, 13, 2, 25, 871), datetime.datetime(2020, 4, 18, 13, 2, 25, 128553), datetime.datetime(2020, 4, 18, 13, 2, 27, 634137), datetime.datetime(2020, 4, 18, 13, 2, 27, 699337), datetime.datetime(2020, 4, 18, 13, 2, 27, 827818), datetime.datetime(2020, 4, 18, 13, 2, 27, 963810), datetime.datetime(2020, 4, 18, 13, 2, 28, 18584), datetime.datetime(2020, 4, 18, 13, 2, 29, 918160), datetime.datetime(2020, 4, 18, 13, 2, 30, 249610), datetime.datetime(2020, 4, 18, 13, 2, 30, 341772), datetime.datetime(2020, 4, 18, 13, 2, 30, 436352), datetime.datetime(2020, 4, 18, 13, 2, 35, 143227)]\n"
     ]
    }
   ],
   "source": [
    "%run motion_detection.ipynb\n",
    "#from ipynb.fs.full.motion_detection import df\n",
    "\n",
    "from bokeh.plotting import figure\n",
    "from bokeh.io import output_file,show\n",
    "from bokeh.models import HoverTool, ColumnDataSource\n",
    "\n",
    "df[\"Start_string\"]=df[\"Entry time\"].dt.strftime(\"%Y-%m-%d %H:%M:%S\")\n",
    "df[\"End_string\"]=df[\"Exit time\"].dt.strftime(\"%Y-%m-%d %H:%M:%S\")\n",
    "\n",
    "cds=ColumnDataSource(df)\n",
    "f=figure(x_axis_type=\"datetime\",height=100,width=500,title=\"Motion graph\",sizing_mode=\"stretch_both\")\n",
    "hover=HoverTool(tooltips=[(\"Start \", \"@Start_string\"),(\"End \", \"@End_string\")])\n",
    "\n",
    "f.add_tools(hover)\n",
    "\n",
    "f.outline_line_color=None\n",
    "f.ygrid[0].ticker.desired_num_ticks=1\n",
    "\n",
    "\n",
    "\n",
    "\n",
    "f.quad(left=\"Entry time\",right=\"Exit time\",top=1,bottom=0,color=\"green\",source=cds)\n",
    "output_file(\"motion graph11.html\")\n",
    "show(f)"
   ]
  },
  {
   "cell_type": "code",
   "execution_count": 6,
   "metadata": {},
   "outputs": [
    {
     "data": {
      "text/html": [
       "<div>\n",
       "<style scoped>\n",
       "    .dataframe tbody tr th:only-of-type {\n",
       "        vertical-align: middle;\n",
       "    }\n",
       "\n",
       "    .dataframe tbody tr th {\n",
       "        vertical-align: top;\n",
       "    }\n",
       "\n",
       "    .dataframe thead th {\n",
       "        text-align: right;\n",
       "    }\n",
       "</style>\n",
       "<table border=\"1\" class=\"dataframe\">\n",
       "  <thead>\n",
       "    <tr style=\"text-align: right;\">\n",
       "      <th></th>\n",
       "      <th>Time in</th>\n",
       "      <th>Time out</th>\n",
       "      <th>Entry time</th>\n",
       "      <th>Exit time</th>\n",
       "    </tr>\n",
       "  </thead>\n",
       "  <tbody>\n",
       "    <tr>\n",
       "      <td>0</td>\n",
       "      <td>NaN</td>\n",
       "      <td>NaN</td>\n",
       "      <td>2020-04-18 12:00:36.421339</td>\n",
       "      <td>2020-04-18 12:00:37.090587</td>\n",
       "    </tr>\n",
       "    <tr>\n",
       "      <td>1</td>\n",
       "      <td>NaN</td>\n",
       "      <td>NaN</td>\n",
       "      <td>2020-04-18 12:00:41.251320</td>\n",
       "      <td>2020-04-18 12:00:41.915684</td>\n",
       "    </tr>\n",
       "    <tr>\n",
       "      <td>2</td>\n",
       "      <td>NaN</td>\n",
       "      <td>NaN</td>\n",
       "      <td>2020-04-18 12:00:44.921102</td>\n",
       "      <td>2020-04-18 12:00:45.750191</td>\n",
       "    </tr>\n",
       "  </tbody>\n",
       "</table>\n",
       "</div>"
      ],
      "text/plain": [
       "  Time in Time out                 Entry time                  Exit time\n",
       "0     NaN      NaN 2020-04-18 12:00:36.421339 2020-04-18 12:00:37.090587\n",
       "1     NaN      NaN 2020-04-18 12:00:41.251320 2020-04-18 12:00:41.915684\n",
       "2     NaN      NaN 2020-04-18 12:00:44.921102 2020-04-18 12:00:45.750191"
      ]
     },
     "execution_count": 6,
     "metadata": {},
     "output_type": "execute_result"
    }
   ],
   "source": [
    "df"
   ]
  },
  {
   "cell_type": "code",
   "execution_count": null,
   "metadata": {},
   "outputs": [],
   "source": []
  }
 ],
 "metadata": {
  "kernelspec": {
   "display_name": "Python 3",
   "language": "python",
   "name": "python3"
  },
  "language_info": {
   "codemirror_mode": {
    "name": "ipython",
    "version": 3
   },
   "file_extension": ".py",
   "mimetype": "text/x-python",
   "name": "python",
   "nbconvert_exporter": "python",
   "pygments_lexer": "ipython3",
   "version": "3.7.4"
  }
 },
 "nbformat": 4,
 "nbformat_minor": 2
}
