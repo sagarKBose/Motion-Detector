{
 "cells": [
  {
   "cell_type": "code",
   "execution_count": 2,
   "metadata": {},
   "outputs": [],
   "source": [
    "import cv2,time,pandas\n",
    "from datetime import datetime\n"
   ]
  },
  {
   "cell_type": "code",
   "execution_count": 3,
   "metadata": {},
   "outputs": [
    {
     "name": "stdout",
     "output_type": "stream",
     "text": [
      "[datetime.datetime(2020, 7, 15, 0, 49, 48, 306543), datetime.datetime(2020, 7, 15, 0, 49, 49, 621980), datetime.datetime(2020, 7, 15, 0, 49, 51, 720891), datetime.datetime(2020, 7, 15, 0, 49, 53, 306015), datetime.datetime(2020, 7, 15, 0, 49, 55, 974553), datetime.datetime(2020, 7, 15, 0, 49, 57, 797771)]\n"
     ]
    }
   ],
   "source": [
    "video=cv2.VideoCapture(0)\n",
    "first_frame=None\n",
    "\n",
    "df=pandas.DataFrame(columns=[\"Time in\",\"Time out\"])\n",
    "\n",
    "status_list=[None,None]\n",
    "time_in_out=[]\n",
    "while True:\n",
    "    check,frame=video.read()\n",
    "    \n",
    "    status=0\n",
    "    \n",
    "    grey_img=cv2.cvtColor(frame,cv2.COLOR_BGR2GRAY)\n",
    "    grey_img=cv2.GaussianBlur(grey_img,(21,21),0)\n",
    "    \n",
    "    if first_frame is None:\n",
    "        first_frame= grey_img\n",
    "        continue\n",
    "    \n",
    "    difference_frame=cv2.absdiff(first_frame,grey_img)\n",
    "\n",
    "    threshold_frame=cv2.threshold(difference_frame,30,255,cv2.THRESH_BINARY)[1]\n",
    "    threshold_frame=cv2.dilate(threshold_frame,None,iterations=2)\n",
    "    \n",
    "    cont,_=cv2.findContours(threshold_frame.copy(),cv2.RETR_EXTERNAL,cv2.CHAIN_APPROX_SIMPLE)\n",
    "    \n",
    "    for contours in cont:\n",
    "        if cv2.contourArea(contours) <10000:\n",
    "            continue\n",
    "        \n",
    "        status=1\n",
    "        \n",
    "        (x,y,w,h)=cv2.boundingRect(contours)\n",
    "        cv2.rectangle(frame,  (x,y), (x+w,y+h),  (0,255,0),3)\n",
    "    \n",
    "    status_list.append(status)\n",
    "    \n",
    "    if status_list[-1]==1 and status_list[-2]==0:\n",
    "        time_in_out.append(datetime.now())\n",
    "        \n",
    "    if status_list[-1]==0 and status_list[-2]==1:\n",
    "        time_in_out.append(datetime.now())\n",
    "    \n",
    "    cv2.imshow(\"grey frame\",grey_img)\n",
    "    cv2.imshow(\"difference frame\",difference_frame)\n",
    "    cv2.imshow(\"threshold frame\",threshold_frame)\n",
    "    cv2.imshow(\"colour frame\",frame)\n",
    "    \n",
    "    key=cv2.waitKey(1)\n",
    "    \n",
    "    if key==ord(\"q\"):\n",
    "        if status==1:\n",
    "            time_in_out.append(datetime.now())\n",
    "        break\n",
    "print(time_in_out)    \n",
    "\n",
    "for i in range(0,len(time_in_out),2):\n",
    "    df=df.append({\"Entry time\": time_in_out[i], \"Exit time\": time_in_out[i+1]},ignore_index=True)\n",
    "    \n",
    "\n",
    "df.to_csv(\"Timing for Motion Detector.csv\")\n",
    "    \n",
    "\n",
    "video.release()\n",
    "cv2.destroyAllWindows()"
   ]
  },
  {
   "cell_type": "code",
   "execution_count": 8,
   "metadata": {},
   "outputs": [
    {
     "data": {
      "text/html": [
       "<div>\n",
       "<style scoped>\n",
       "    .dataframe tbody tr th:only-of-type {\n",
       "        vertical-align: middle;\n",
       "    }\n",
       "\n",
       "    .dataframe tbody tr th {\n",
       "        vertical-align: top;\n",
       "    }\n",
       "\n",
       "    .dataframe thead th {\n",
       "        text-align: right;\n",
       "    }\n",
       "</style>\n",
       "<table border=\"1\" class=\"dataframe\">\n",
       "  <thead>\n",
       "    <tr style=\"text-align: right;\">\n",
       "      <th></th>\n",
       "      <th>Time in</th>\n",
       "      <th>Time out</th>\n",
       "      <th>Entry time</th>\n",
       "      <th>Exit time</th>\n",
       "    </tr>\n",
       "  </thead>\n",
       "  <tbody>\n",
       "    <tr>\n",
       "      <td>0</td>\n",
       "      <td>NaN</td>\n",
       "      <td>NaN</td>\n",
       "      <td>2020-04-18 11:48:40.290044</td>\n",
       "      <td>2020-04-18 11:48:40.934170</td>\n",
       "    </tr>\n",
       "    <tr>\n",
       "      <td>1</td>\n",
       "      <td>NaN</td>\n",
       "      <td>NaN</td>\n",
       "      <td>2020-04-18 11:48:44.062875</td>\n",
       "      <td>2020-04-18 11:48:45.019595</td>\n",
       "    </tr>\n",
       "  </tbody>\n",
       "</table>\n",
       "</div>"
      ],
      "text/plain": [
       "  Time in Time out                 Entry time                  Exit time\n",
       "0     NaN      NaN 2020-04-18 11:48:40.290044 2020-04-18 11:48:40.934170\n",
       "1     NaN      NaN 2020-04-18 11:48:44.062875 2020-04-18 11:48:45.019595"
      ]
     },
     "execution_count": 8,
     "metadata": {},
     "output_type": "execute_result"
    }
   ],
   "source": [
    "df"
   ]
  },
  {
   "cell_type": "code",
   "execution_count": null,
   "metadata": {},
   "outputs": [],
   "source": []
  }
 ],
 "metadata": {
  "kernelspec": {
   "display_name": "Python 3",
   "language": "python",
   "name": "python3"
  },
  "language_info": {
   "codemirror_mode": {
    "name": "ipython",
    "version": 3
   },
   "file_extension": ".py",
   "mimetype": "text/x-python",
   "name": "python",
   "nbconvert_exporter": "python",
   "pygments_lexer": "ipython3",
   "version": "3.7.4"
  }
 },
 "nbformat": 4,
 "nbformat_minor": 2
}
